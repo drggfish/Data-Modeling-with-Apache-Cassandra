{
 "cells": [
  {
   "cell_type": "markdown",
   "source": [
    "# Part I. ETL Pipeline for Pre-Processing the Files"
   ],
   "metadata": {}
  },
  {
   "cell_type": "markdown",
   "source": [
    "## PLEASE RUN THE FOLLOWING CODE FOR PRE-PROCESSING THE FILES"
   ],
   "metadata": {}
  },
  {
   "cell_type": "markdown",
   "source": [
    "#### Import Python packages "
   ],
   "metadata": {}
  },
  {
   "cell_type": "code",
   "execution_count": 199,
   "source": [
    "# Import Python packages\r\n",
    "import pandas as pd\r\n",
    "import cassandra\r\n",
    "import re\r\n",
    "import os\r\n",
    "import glob\r\n",
    "import numpy as np\r\n",
    "import json\r\n",
    "import csv"
   ],
   "outputs": [],
   "metadata": {}
  },
  {
   "cell_type": "markdown",
   "source": [
    "#### Creating list of filepaths to process original event csv data files"
   ],
   "metadata": {}
  },
  {
   "cell_type": "code",
   "execution_count": 200,
   "source": [
    "# checking your current working directory\r\n",
    "print(os.getcwd())\r\n",
    "\r\n",
    "# Get your current folder and subfolder event data\r\n",
    "filepath = os.getcwd() + '/event_data'\r\n",
    "\r\n",
    "# Create a for loop to create a list of files and collect each filepath\r\n",
    "for root, dirs, files in os.walk(filepath):\r\n",
    "    \r\n",
    "# join the file path and roots with the subdirectories using glob\r\n",
    "    file_path_list = glob.glob(os.path.join(root,'*'))\r\n",
    "    #print(file_path_list)"
   ],
   "outputs": [
    {
     "output_type": "stream",
     "name": "stdout",
     "text": [
      "c:\\Users\\drggf\\Desktop\\Data Engineering Nanodegree\\Data-Modeling-with-Apache-Cassandra\n"
     ]
    }
   ],
   "metadata": {}
  },
  {
   "cell_type": "markdown",
   "source": [
    "#### Processing the files to create the data file csv that will be used for Apache Casssandra tables"
   ],
   "metadata": {}
  },
  {
   "cell_type": "code",
   "execution_count": 201,
   "source": [
    "# initiating an empty list of rows that will be generated from each file\r\n",
    "full_data_rows_list = [] \r\n",
    "    \r\n",
    "# for every filepath in the file path list \r\n",
    "for f in file_path_list:\r\n",
    "\r\n",
    "# reading csv file \r\n",
    "    with open(f, 'r', encoding = 'utf8', newline='') as csvfile: \r\n",
    "        # creating a csv reader object \r\n",
    "        csvreader = csv.reader(csvfile) \r\n",
    "        next(csvreader)\r\n",
    "        \r\n",
    " # extracting each data row one by one and append it        \r\n",
    "        for line in csvreader:\r\n",
    "            #print(line)\r\n",
    "            full_data_rows_list.append(line) \r\n",
    "            \r\n",
    "# uncomment the code below if you would like to get total number of rows \r\n",
    "#print(len(full_data_rows_list))\r\n",
    "# uncomment the code below if you would like to check to see what the list of event data rows will look like\r\n",
    "#print(full_data_rows_list)\r\n",
    "\r\n",
    "# creating a smaller event data csv file called event_datafile_full csv that will be used to insert data into the \\\r\n",
    "# Apache Cassandra tables\r\n",
    "csv.register_dialect('myDialect', quoting=csv.QUOTE_ALL, skipinitialspace=True)\r\n",
    "\r\n",
    "with open('event_datafile_new.csv', 'w', encoding = 'utf8', newline='') as f:\r\n",
    "    writer = csv.writer(f, dialect='myDialect')\r\n",
    "    writer.writerow(['artist','firstName','gender','itemInSession','lastName','length',\\\r\n",
    "                'level','location','sessionId','song','userId'])\r\n",
    "    for row in full_data_rows_list:\r\n",
    "        if (row[0] == ''):\r\n",
    "            continue\r\n",
    "        writer.writerow((row[0], row[2], row[3], row[4], row[5], row[6], row[7], \\\r\n",
    "                         row[8], row[12], row[13], row[16]))\r\n"
   ],
   "outputs": [],
   "metadata": {}
  },
  {
   "cell_type": "code",
   "execution_count": 202,
   "source": [
    "# check the number of rows in your csv file\r\n",
    "with open('event_datafile_new.csv', 'r', encoding = 'utf8') as f:\r\n",
    "    print(sum(1 for line in f))"
   ],
   "outputs": [
    {
     "output_type": "stream",
     "name": "stdout",
     "text": [
      "6821\n"
     ]
    }
   ],
   "metadata": {}
  },
  {
   "cell_type": "markdown",
   "source": [
    "# Part II. Complete the Apache Cassandra coding portion of your project. \r\n",
    "\r\n",
    "## Now you are ready to work with the CSV file titled <font color=red>event_datafile_new.csv</font>, located within the Workspace directory.  The event_datafile_new.csv contains the following columns: \r\n",
    "- artist \r\n",
    "- firstName of user\r\n",
    "- gender of user\r\n",
    "- item number in session\r\n",
    "- last name of user\r\n",
    "- length of the song\r\n",
    "- level (paid or free song)\r\n",
    "- location of the user\r\n",
    "- sessionId\r\n",
    "- song title\r\n",
    "- userId\r\n",
    "\r\n",
    "The image below is a screenshot of what the denormalized data should appear like in the <font color=red>**event_datafile_new.csv**</font> after the code above is run:<br>\r\n",
    "\r\n",
    "<img src=\"images/image_event_datafile_new.jpg\">"
   ],
   "metadata": {}
  },
  {
   "cell_type": "markdown",
   "source": [
    "## Begin writing your Apache Cassandra code in the cells below"
   ],
   "metadata": {}
  },
  {
   "cell_type": "markdown",
   "source": [
    "#### Creating a Cluster"
   ],
   "metadata": {}
  },
  {
   "cell_type": "code",
   "execution_count": 203,
   "source": [
    "# Make a connection to a Cassandra instance on my local machine on 127.0.0.1\r\n",
    "# where I have a Cassandra database running\r\n",
    "\r\n",
    "from cassandra.cluster import Cluster\r\n",
    "try:\r\n",
    "    cluster = Cluster(['127.0.0.1'])\r\n",
    "    # To establish connection and begin executing queries, need a session\r\n",
    "    session = cluster.connect()\r\n",
    "except Exception as e:\r\n",
    "    print(e)"
   ],
   "outputs": [],
   "metadata": {}
  },
  {
   "cell_type": "markdown",
   "source": [
    "#### Create Keyspace"
   ],
   "metadata": {}
  },
  {
   "cell_type": "code",
   "execution_count": 160,
   "source": [
    "# Drop a Keyspace if needed\r\n",
    "# try:\r\n",
    "#     session.execute(\"\"\"\r\n",
    "#     DROP KEYSPACE sparkify \r\n",
    "#     \"\"\"\r\n",
    "# )\r\n",
    "\r\n",
    "# except Exception as e:\r\n",
    "#     print(e)"
   ],
   "outputs": [],
   "metadata": {}
  },
  {
   "cell_type": "code",
   "execution_count": 204,
   "source": [
    "# Create a keyspace if it does not already exist\r\n",
    "\r\n",
    "try:\r\n",
    "    session.execute(\"\"\"\r\n",
    "    CREATE KEYSPACE IF NOT EXISTS sparkify \r\n",
    "    WITH REPLICATION = \r\n",
    "    { 'class' : 'SimpleStrategy', 'replication_factor' : 1 }\"\"\"\r\n",
    ")\r\n",
    "\r\n",
    "except Exception as e:\r\n",
    "    print(e)"
   ],
   "outputs": [],
   "metadata": {}
  },
  {
   "cell_type": "markdown",
   "source": [
    "#### Set Keyspace"
   ],
   "metadata": {}
  },
  {
   "cell_type": "code",
   "execution_count": 205,
   "source": [
    "# Set KEYSPACE to the keyspace specified above\r\n",
    "try:\r\n",
    "    session.set_keyspace('sparkify')\r\n",
    "except Exception as e:\r\n",
    "    print(e)"
   ],
   "outputs": [],
   "metadata": {}
  },
  {
   "cell_type": "markdown",
   "source": [
    "### Now we need to create tables to run the following queries. Remember, with Apache Cassandra you model the database tables on the queries you want to run."
   ],
   "metadata": {}
  },
  {
   "cell_type": "markdown",
   "source": [
    "## Create queries to ask the following three questions of the data\n",
    "\n",
    "### 1. Give me the artist, song title and song's length in the music app history that was heard during  sessionId = 338, and itemInSession  = 4\n",
    "\n",
    "\n",
    "### 2. Give me only the following: name of artist, song (sorted by itemInSession) and user (first and last name) for userid = 10, sessionid = 182\n",
    "    \n",
    "\n",
    "### 3. Give me every user name (first and last) in my music app history who listened to the song 'All Hands Against His Own'\n",
    "\n",
    "\n"
   ],
   "metadata": {}
  },
  {
   "cell_type": "markdown",
   "source": [
    "Here, we need to create a primary key on session_id and item_in_session. session_id is the partitioning key which will partition the data in way so that all the records for same session_id will be stored in same partition. The item_in_session column will be the clustering column."
   ],
   "metadata": {}
  },
  {
   "cell_type": "code",
   "execution_count": 206,
   "source": [
    "## Query 1:  Give me the artist, song title and song's length in the music app history that was heard during \\\r\n",
    "## sessionId = 338, and itemInSession = 4\r\n",
    "\r\n",
    "query = \"CREATE TABLE IF NOT EXISTS session_history \"\r\n",
    "query = query + \"(session_id int, item_in_session int, artist text, song_title text, \\\r\n",
    "                  song_length double, PRIMARY KEY (session_id, item_in_session))\"\r\n",
    "\r\n",
    "try:\r\n",
    "    session.execute(query)\r\n",
    "except Exception as e:\r\n",
    "    print(e)"
   ],
   "outputs": [],
   "metadata": {}
  },
  {
   "cell_type": "code",
   "execution_count": 207,
   "source": [
    "# We have provided part of the code to set up the CSV file.\r\n",
    "file = 'event_datafile_new.csv'\r\n",
    "\r\n",
    "with open(file, encoding = 'utf8') as f:\r\n",
    "    csvreader = csv.reader(f)\r\n",
    "    next(csvreader) # skip header\r\n",
    "    for line in csvreader:\r\n",
    "## Assign the INSERT statements into the `query` variable\r\n",
    "        query = \"INSERT INTO session_history (session_id, item_in_session, artist, song_title, song_length)\"\r\n",
    "        query = query + \" VALUES (%s, %s, %s, %s, %s)\"\r\n",
    "        ## Assign which column element should be assigned for each column in the INSERT statement.\r\n",
    "        try:\r\n",
    "            session.execute(query, (int(line[8]), int(line[3]), line[0], line[9], float(line[5])))\r\n",
    "        except Exception as e:\r\n",
    "            print(e)"
   ],
   "outputs": [],
   "metadata": {
    "scrolled": false
   }
  },
  {
   "cell_type": "markdown",
   "source": [
    "#### Do a SELECT to verify that the data have been inserted into each table"
   ],
   "metadata": {}
  },
  {
   "cell_type": "code",
   "execution_count": 208,
   "source": [
    "## Validate the session history query\r\n",
    "\r\n",
    "query = \"SELECT artist, song_title, song_length FROM session_history WHERE session_id = 338 and item_in_session = 4\"\r\n",
    "\r\n",
    "try:\r\n",
    "    rows = session.execute(query)\r\n",
    "except Exception as e:\r\n",
    "    print(e)\r\n",
    "\r\n",
    "for row in rows:\r\n",
    "    print (row.artist, row.song_title, row.song_length)"
   ],
   "outputs": [
    {
     "output_type": "stream",
     "name": "stdout",
     "text": [
      "Faithless Music Matters (Mark Knight Dub) 495.3073\n"
     ]
    }
   ],
   "metadata": {
    "scrolled": true
   }
  },
  {
   "cell_type": "markdown",
   "source": [
    "Here, we need to create a primary key on user_id, session_id and item_in_session. user_id is the partitioning key which will partition the data in way so that all the records for same user_id will be stored in same partition. The session_id and item_in_session columns will be used as the clustering column."
   ],
   "metadata": {}
  },
  {
   "cell_type": "code",
   "execution_count": 209,
   "source": [
    "## Query 2: Give me only the following: name of artist, song (sorted by itemInSession) and user (first and last name)\\\r\n",
    "## for userid = 10, sessionid = 182\r\n",
    "\r\n",
    "query = \"CREATE TABLE IF NOT EXISTS user_history \"\r\n",
    "query = query + \"(user_id int, session_id int, item_in_session int, artist text, song_title text, \\\r\n",
    "                  first_name text, last_name text, PRIMARY KEY (user_id, session_id, item_in_session))\"\r\n",
    "\r\n",
    "try:\r\n",
    "    session.execute(query)\r\n",
    "except Exception as e:\r\n",
    "    print(e)                   "
   ],
   "outputs": [],
   "metadata": {}
  },
  {
   "cell_type": "code",
   "execution_count": 210,
   "source": [
    "# We have provided part of the code to set up the CSV file. Please complete the Apache Cassandra code below#\r\n",
    "file = 'event_datafile_new.csv'\r\n",
    "\r\n",
    "with open(file, encoding = 'utf8') as f:\r\n",
    "    csvreader = csv.reader(f)\r\n",
    "    next(csvreader) # skip header\r\n",
    "    for line in csvreader:\r\n",
    "## Assign the INSERT statements into the `query` variable\r\n",
    "        query = \"INSERT INTO user_history (user_id, session_id, item_in_session, artist, song_title, first_name, last_name)\"\r\n",
    "        query = query + \"VALUES (%s, %s, %s, %s, %s, %s, %s)\"\r\n",
    "        ## Assign which column element should be assigned for each column in the INSERT statement.\r\n",
    "        try:\r\n",
    "            session.execute(query, (int(line[10]), int(line[8]), int(line[3]), line[0], line[9], line[1], line[4]))\r\n",
    "        except Exception as e:\r\n",
    "            print(e)"
   ],
   "outputs": [],
   "metadata": {}
  },
  {
   "cell_type": "code",
   "execution_count": 211,
   "source": [
    "# Validate user history query\r\n",
    "query = \"SELECT item_in_session, artist, song_title, first_name, last_name FROM user_history \\\r\n",
    "         WHERE user_id = 10 AND session_id = 182\"\r\n",
    "\r\n",
    "try:\r\n",
    "    rows = session.execute(query)\r\n",
    "except Exception as e:\r\n",
    "    print(e)\r\n",
    "\r\n",
    "for row in rows:\r\n",
    "    print (row.item_in_session, row.artist, row.song_title, row.first_name, row.last_name)"
   ],
   "outputs": [
    {
     "output_type": "stream",
     "name": "stdout",
     "text": [
      "0 Down To The Bone Keep On Keepin' On Sylvie Cruz\n",
      "1 Three Drives Greece 2000 Sylvie Cruz\n",
      "2 Sebastien Tellier Kilometer Sylvie Cruz\n",
      "3 Lonnie Gordon Catch You Baby (Steve Pitron & Max Sanna Radio Edit) Sylvie Cruz\n"
     ]
    }
   ],
   "metadata": {}
  },
  {
   "cell_type": "markdown",
   "source": [
    "Here, we need to create a primary key on song_title and user_id. song_title is the partitioning key which will partition the data in way so that all the records for same song_title will be stored in same partition. The user_id column will be used as the clustering column."
   ],
   "metadata": {}
  },
  {
   "cell_type": "code",
   "execution_count": 212,
   "source": [
    "## Query 3: Give me every user name (first and last) in my music app history who listened to the song \r\n",
    "# # 'All Hands Against His Own'\r\n",
    "\r\n",
    "query = \"CREATE TABLE IF NOT EXISTS song_history \"\r\n",
    "query = query + \"(song_title text, user_id int, first_name text, last_name text, PRIMARY KEY (song_title, user_id))\"\r\n",
    "\r\n",
    "try:\r\n",
    "    session.execute(query)\r\n",
    "except Exception as e:\r\n",
    "    print(e)                  "
   ],
   "outputs": [],
   "metadata": {}
  },
  {
   "cell_type": "code",
   "execution_count": 213,
   "source": [
    "file = 'event_datafile_new.csv'\r\n",
    "\r\n",
    "with open(file, encoding = 'utf8') as f:\r\n",
    "    csvreader = csv.reader(f)\r\n",
    "    next(csvreader) # skip header\r\n",
    "    for line in csvreader:\r\n",
    "## Assign the INSERT statements into the `query` variable\r\n",
    "        query = \"INSERT INTO song_history (song_title, user_id, first_name, last_name)\"\r\n",
    "        query = query + \"VALUES (%s, %s, %s, %s)\"\r\n",
    "        ## Assign which column element should be assigned for each column in the INSERT statement.\r\n",
    "        ## For e.g., to INSERT artist_name and user first_name, you would change the code below to `line[0], line[1]`\r\n",
    "        try:\r\n",
    "            session.execute(query, (line[9], int(line[10]), line[1], line[4]))\r\n",
    "        except Exception as e:\r\n",
    "            print(e)"
   ],
   "outputs": [],
   "metadata": {}
  },
  {
   "cell_type": "code",
   "execution_count": 214,
   "source": [
    "# Validate the song history query\r\n",
    "\r\n",
    "query = \"SELECT user_id, first_name, last_name FROM song_history WHERE song_title = 'All Hands Against His Own'\"\r\n",
    "\r\n",
    "try:\r\n",
    "    rows = session.execute(query)\r\n",
    "except Exception as e:\r\n",
    "    print(e)\r\n",
    "\r\n",
    "for row in rows:\r\n",
    "    print (row.first_name, row.last_name)"
   ],
   "outputs": [
    {
     "output_type": "stream",
     "name": "stdout",
     "text": [
      "Jacqueline Lynch\n",
      "Tegan Levine\n",
      "Sara Johnson\n"
     ]
    }
   ],
   "metadata": {}
  },
  {
   "cell_type": "markdown",
   "source": [
    "### Drop the tables before closing out the sessions"
   ],
   "metadata": {}
  },
  {
   "cell_type": "code",
   "execution_count": 215,
   "source": [
    "## Drop the tables before closing out the sessions\r\n",
    "\r\n",
    "try:\r\n",
    "    session.execute(\"drop table session_history\")\r\n",
    "    session.execute(\"drop table user_history\")\r\n",
    "    session.execute(\"drop table song_history\")\r\n",
    "\r\n",
    "except Exception as e:\r\n",
    "    print(e)"
   ],
   "outputs": [],
   "metadata": {}
  },
  {
   "cell_type": "markdown",
   "source": [
    "### Close the session and cluster connection¶"
   ],
   "metadata": {}
  },
  {
   "cell_type": "code",
   "execution_count": 216,
   "source": [
    "session.shutdown()\r\n",
    "cluster.shutdown()"
   ],
   "outputs": [],
   "metadata": {}
  }
 ],
 "metadata": {
  "kernelspec": {
   "name": "python3",
   "display_name": "Python 3.7.9 64-bit ('tensorflow': conda)"
  },
  "language_info": {
   "codemirror_mode": {
    "name": "ipython",
    "version": 3
   },
   "file_extension": ".py",
   "mimetype": "text/x-python",
   "name": "python",
   "nbconvert_exporter": "python",
   "pygments_lexer": "ipython3",
   "version": "3.7.9"
  },
  "interpreter": {
   "hash": "d344b0b44ed74f5219ec8dab31a9f3e764b5e17a5cf2d9830ceefda51f994047"
  }
 },
 "nbformat": 4,
 "nbformat_minor": 2
}